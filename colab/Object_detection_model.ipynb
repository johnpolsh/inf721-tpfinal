{
  "cells": [
    {
      "cell_type": "markdown",
      "metadata": {
        "colab_type": "text",
        "id": "view-in-github"
      },
      "source": [
        "<a href=\"https://colab.research.google.com/github/johnpolsh/inf721-tpfinal/blob/main/colab/Object_Detector_model.ipynb\" target=\"_parent\"><img src=\"https://colab.research.google.com/assets/colab-badge.svg\" alt=\"Open In Colab\"/></a>"
      ]
    },
    {
      "cell_type": "markdown",
      "metadata": {},
      "source": [
        "# Setup\n",
        "### Default imports"
      ]
    },
    {
      "cell_type": "code",
      "execution_count": null,
      "metadata": {
        "id": "vfznvUtUlvVN"
      },
      "outputs": [],
      "source": [
        "import matplotlib.pyplot as plt\n",
        "import numpy as np\n",
        "import pandas as pd\n",
        "import torch"
      ]
    },
    {
      "cell_type": "markdown",
      "metadata": {},
      "source": [
        "### Select back-end device"
      ]
    },
    {
      "cell_type": "code",
      "execution_count": null,
      "metadata": {},
      "outputs": [],
      "source": [
        "device = \"cuda\" if torch.cuda.is_available() else \"cpu\"\n",
        "torch.set_default_device(device)\n",
        "\n",
        "print(f\"Using {device} as default device\")"
      ]
    },
    {
      "cell_type": "markdown",
      "metadata": {},
      "source": [
        "# Model\n",
        "### Our archtecture definition"
      ]
    },
    {
      "cell_type": "code",
      "execution_count": null,
      "metadata": {},
      "outputs": [],
      "source": [
        "import torch.nn\n",
        "\n",
        "class Bottleneck():\n",
        "    def __init__(self):\n",
        "        pass\n",
        "\n",
        "class OurObjectDetectionNet(nn.Module):\n",
        "    def __init__(self):\n",
        "        super.__init__(self, OurObjectDetectionNet)\n",
        "\n",
        "        self.out == None\n",
        "    \n",
        "    def __forward_impl(self, x):\n",
        "        return x\n",
        "\n",
        "    def forward(self, x):\n",
        "        x = self.__forward_impl(x)\n",
        "        return x\n",
        "\n",
        "our_model = OurObjectDetectionNet()"
      ]
    },
    {
      "cell_type": "markdown",
      "metadata": {},
      "source": [
        "### MobileNet V2"
      ]
    },
    {
      "cell_type": "code",
      "execution_count": null,
      "metadata": {},
      "outputs": [],
      "source": [
        "from torchvision.models import mobilenet_v2\n",
        "\n",
        "mobilenet_model = mobilenet_v2(pretrained=True)"
      ]
    },
    {
      "cell_type": "markdown",
      "metadata": {},
      "source": [
        "### Convert model for mobile"
      ]
    },
    {
      "cell_type": "code",
      "execution_count": null,
      "metadata": {},
      "outputs": [],
      "source": [
        "import wget\n",
        "import os.path\n",
        "\n",
        "if not os.path.isfile(\"convert.py\"):\n",
        "    wget.download(\n",
        "        \"https://raw.githubusercontent.com/johnpolsh/inf721-tpfinal/main/colab/convert.py\",\n",
        "        \"convert.py\")"
      ]
    },
    {
      "cell_type": "code",
      "execution_count": null,
      "metadata": {},
      "outputs": [],
      "source": [
        "from convert import convert_for_mobile\n",
        "\n",
        "convert_for_mobile(mobilenet_model, \"object_detection.plt\")"
      ]
    }
  ],
  "metadata": {
    "colab": {
      "authorship_tag": "ABX9TyO5vKImELkdDHvGnebRu7sx",
      "include_colab_link": true,
      "provenance": []
    },
    "kernelspec": {
      "display_name": "Python 3",
      "name": "python3"
    },
    "language_info": {
      "name": "python"
    }
  },
  "nbformat": 4,
  "nbformat_minor": 0
}
